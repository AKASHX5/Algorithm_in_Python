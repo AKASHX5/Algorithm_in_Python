{
 "cells": [
  {
   "cell_type": "code",
   "execution_count": 16,
   "metadata": {
    "collapsed": false
   },
   "outputs": [
    {
     "name": "stdout",
     "output_type": "stream",
     "text": [
      "\n",
      "Python implentation of stack\n",
      "#####\n",
      "1. View stack\n",
      "2. Push onto the stack\n",
      "3. Pop out of the stack\n",
      "4. Dec to binary\n",
      "*******\n",
      "please enter the menu of your choice2\n",
      "\n",
      "Plase enter the item to be pushed32\n",
      "\n",
      "Python implentation of stack\n",
      "#####\n",
      "1. View stack\n",
      "2. Push onto the stack\n",
      "3. Pop out of the stack\n",
      "4. Dec to binary\n",
      "*******\n",
      "please enter the menu of your choice2\n",
      "\n",
      "Plase enter the item to be pushed42\n",
      "\n",
      "Python implentation of stack\n",
      "#####\n",
      "1. View stack\n",
      "2. Push onto the stack\n",
      "3. Pop out of the stack\n",
      "4. Dec to binary\n",
      "*******\n",
      "please enter the menu of your choice3\n",
      "\n",
      "('You just poped out', 42)\n",
      "\n",
      "Python implentation of stack\n",
      "#####\n",
      "1. View stack\n",
      "2. Push onto the stack\n",
      "3. Pop out of the stack\n",
      "4. Dec to binary\n",
      "*******\n",
      "please enter the menu of your choice4\n",
      "\n"
     ]
    },
    {
     "ename": "AttributeError",
     "evalue": "'function' object has no attribute 'item'",
     "output_type": "error",
     "traceback": [
      "\u001b[0;31m---------------------------------------------------------------------------\u001b[0m",
      "\u001b[0;31mAttributeError\u001b[0m                            Traceback (most recent call last)",
      "\u001b[0;32m<ipython-input-16-e62e8797adcd>\u001b[0m in \u001b[0;36m<module>\u001b[0;34m()\u001b[0m\n\u001b[1;32m     56\u001b[0m         \u001b[0mPop\u001b[0m\u001b[0;34m(\u001b[0m\u001b[0;34m)\u001b[0m\u001b[0;34m\u001b[0m\u001b[0m\n\u001b[1;32m     57\u001b[0m     \u001b[0;32melif\u001b[0m \u001b[0mmenu_choice\u001b[0m\u001b[0;34m==\u001b[0m\u001b[0;36m4\u001b[0m\u001b[0;34m:\u001b[0m\u001b[0;34m\u001b[0m\u001b[0m\n\u001b[0;32m---> 58\u001b[0;31m         \u001b[0mdivideBy2\u001b[0m\u001b[0;34m(\u001b[0m\u001b[0mPop\u001b[0m\u001b[0;34m.\u001b[0m\u001b[0mitem\u001b[0m\u001b[0;34m)\u001b[0m\u001b[0;34m\u001b[0m\u001b[0m\n\u001b[0m\u001b[1;32m     59\u001b[0m \u001b[0;34m\u001b[0m\u001b[0m\n\u001b[1;32m     60\u001b[0m \u001b[0;34m\u001b[0m\u001b[0m\n",
      "\u001b[0;31mAttributeError\u001b[0m: 'function' object has no attribute 'item'"
     ]
    }
   ],
   "source": [
    "stack=[]\n",
    "\n",
    "def view():\n",
    "    for x in range (len(stack)):\n",
    "        print(stack[x])\n",
    "def push():\n",
    "    item=input(\"Plase enter the item to be pushed\")\n",
    "    stack.append(item)\n",
    "def Pop():\n",
    "    item =stack.pop(-1)\n",
    "    print(\"You just poped out\",item)\n",
    "# def isEmpty():\n",
    "#     if (len(stack !=0)):\n",
    "#         return False\n",
    "#     else:\n",
    "#         return True\n",
    "\n",
    "\n",
    "\n",
    "def divideBy2(decNumber):\n",
    "    \n",
    "    remStack=Stack()\n",
    "    \n",
    "    while decNumber >0:\n",
    "        rem = decNumber%2\n",
    "        remStack.push(rem)\n",
    "        decNumber = decNumber//2\n",
    "    binString=\" \"\n",
    "    while not remStack.isEmpty():\n",
    "        binString=binString + str(remStack.pop())\n",
    "        \n",
    "        return binString\n",
    "    print(divideBy2(decNumber))\n",
    "        \n",
    "\n",
    "while True:\n",
    "    print(\"\")\n",
    "    print(\"Python implentation of stack\")\n",
    "    print(\"#####\")\n",
    "    print(\"1. View stack\")\n",
    "    print(\"2. Push onto the stack\")\n",
    "    print(\"3. Pop out of the stack\")\n",
    "    print(\"4. Dec to binary\")\n",
    "    print(\"*******\")\n",
    "    menu_choice=int(input(\"please enter the menu of your choice\"))\n",
    "    if menu_choice > 4 :\n",
    "        print (\"Invalid code\")\n",
    "    print(\"\")\n",
    "    \n",
    "    \n",
    "    if menu_choice ==1:\n",
    "        view()\n",
    "    elif menu_choice==2:\n",
    "        push()\n",
    "    elif menu_choice==3:\n",
    "        Pop()\n",
    "    elif menu_choice==4:\n",
    "        divideBy2(Pop.item)\n",
    "        \n",
    "        \n",
    "\n"
   ]
  },
  {
   "cell_type": "markdown",
   "metadata": {},
   "source": [
    "## Converting decimal number to binary\n"
   ]
  },
  {
   "cell_type": "code",
   "execution_count": 1,
   "metadata": {
    "collapsed": false
   },
   "outputs": [
    {
     "ename": "ImportError",
     "evalue": "No module named pythonds.basic.stack",
     "output_type": "error",
     "traceback": [
      "\u001b[0;31m---------------------------------------------------------------------------\u001b[0m",
      "\u001b[0;31mImportError\u001b[0m                               Traceback (most recent call last)",
      "\u001b[0;32m<ipython-input-1-6d61e91e7282>\u001b[0m in \u001b[0;36m<module>\u001b[0;34m()\u001b[0m\n\u001b[0;32m----> 1\u001b[0;31m \u001b[0;32mfrom\u001b[0m \u001b[0mpythonds\u001b[0m\u001b[0;34m.\u001b[0m\u001b[0mbasic\u001b[0m\u001b[0;34m.\u001b[0m\u001b[0mstack\u001b[0m \u001b[0;32mimport\u001b[0m \u001b[0mstack\u001b[0m\u001b[0;34m\u001b[0m\u001b[0m\n\u001b[0m\u001b[1;32m      2\u001b[0m \u001b[0;32mclass\u001b[0m \u001b[0mStack\u001b[0m\u001b[0;34m:\u001b[0m\u001b[0;34m\u001b[0m\u001b[0m\n\u001b[1;32m      3\u001b[0m      \u001b[0;32mdef\u001b[0m \u001b[0m__init__\u001b[0m\u001b[0;34m(\u001b[0m\u001b[0mself\u001b[0m\u001b[0;34m)\u001b[0m\u001b[0;34m:\u001b[0m\u001b[0;34m\u001b[0m\u001b[0m\n\u001b[1;32m      4\u001b[0m          \u001b[0mself\u001b[0m\u001b[0;34m.\u001b[0m\u001b[0mitems\u001b[0m \u001b[0;34m=\u001b[0m \u001b[0;34m[\u001b[0m\u001b[0;34m]\u001b[0m\u001b[0;34m\u001b[0m\u001b[0m\n\u001b[1;32m      5\u001b[0m \u001b[0;34m\u001b[0m\u001b[0m\n",
      "\u001b[0;31mImportError\u001b[0m: No module named pythonds.basic.stack"
     ]
    }
   ],
   "source": [
    "from pythonds.basic.stack import stack\n",
    "class Stack:\n",
    "     def __init__(self):\n",
    "         self.items = []\n",
    "\n",
    "     def isEmpty(self):\n",
    "         return self.items == []\n",
    "\n",
    "     def push(self, item):\n",
    "         self.items.append(item)\n",
    "\n",
    "     def pop(self):\n",
    "         return self.items.pop()\n",
    "\n",
    "     def peek(self):\n",
    "         return self.items[len(self.items)-1]\n",
    "\n",
    "     def size(self):\n",
    "         return len(self.items)\n",
    "\n",
    "def divideBy2(decNumber):\n",
    "    remStack=Stack()\n",
    "    \n",
    "    while decNumber >0:\n",
    "        rem = decNumber%2\n",
    "        remStack.push(rem)\n",
    "        decNumber = decNumber//2\n",
    "    binString=\" \"\n",
    "    while not remStack.isEmpty():\n",
    "        binString=binString + str(remStack.pop())\n",
    "        \n",
    "        return binString\n",
    "print(divideBy2(42))\n",
    "\n"
   ]
  },
  {
   "cell_type": "code",
   "execution_count": 2,
   "metadata": {
    "collapsed": false
   },
   "outputs": [
    {
     "ename": "ImportError",
     "evalue": "No module named pythonds.basic.stack",
     "output_type": "error",
     "traceback": [
      "\u001b[0;31m---------------------------------------------------------------------------\u001b[0m",
      "\u001b[0;31mImportError\u001b[0m                               Traceback (most recent call last)",
      "\u001b[0;32m<ipython-input-2-54821c436358>\u001b[0m in \u001b[0;36m<module>\u001b[0;34m()\u001b[0m\n\u001b[0;32m----> 1\u001b[0;31m \u001b[0;32mfrom\u001b[0m \u001b[0mpythonds\u001b[0m\u001b[0;34m.\u001b[0m\u001b[0mbasic\u001b[0m\u001b[0;34m.\u001b[0m\u001b[0mstack\u001b[0m \u001b[0;32mimport\u001b[0m \u001b[0mstack\u001b[0m\u001b[0;34m\u001b[0m\u001b[0m\n\u001b[0m",
      "\u001b[0;31mImportError\u001b[0m: No module named pythonds.basic.stack"
     ]
    }
   ],
   "source": [
    "from pythonds.basic.stack import stack"
   ]
  },
  {
   "cell_type": "code",
   "execution_count": 3,
   "metadata": {
    "collapsed": false
   },
   "outputs": [
    {
     "ename": "ImportError",
     "evalue": "No module named pythonds.basic.stack",
     "output_type": "error",
     "traceback": [
      "\u001b[0;31m---------------------------------------------------------------------------\u001b[0m",
      "\u001b[0;31mImportError\u001b[0m                               Traceback (most recent call last)",
      "\u001b[0;32m<ipython-input-3-54821c436358>\u001b[0m in \u001b[0;36m<module>\u001b[0;34m()\u001b[0m\n\u001b[0;32m----> 1\u001b[0;31m \u001b[0;32mfrom\u001b[0m \u001b[0mpythonds\u001b[0m\u001b[0;34m.\u001b[0m\u001b[0mbasic\u001b[0m\u001b[0;34m.\u001b[0m\u001b[0mstack\u001b[0m \u001b[0;32mimport\u001b[0m \u001b[0mstack\u001b[0m\u001b[0;34m\u001b[0m\u001b[0m\n\u001b[0m",
      "\u001b[0;31mImportError\u001b[0m: No module named pythonds.basic.stack"
     ]
    }
   ],
   "source": [
    "from pythonds.basic.stack import stack"
   ]
  },
  {
   "cell_type": "code",
   "execution_count": null,
   "metadata": {
    "collapsed": true
   },
   "outputs": [],
   "source": []
  }
 ],
 "metadata": {
  "kernelspec": {
   "display_name": "Python 2",
   "language": "python",
   "name": "python2"
  },
  "language_info": {
   "codemirror_mode": {
    "name": "ipython",
    "version": 2
   },
   "file_extension": ".py",
   "mimetype": "text/x-python",
   "name": "python",
   "nbconvert_exporter": "python",
   "pygments_lexer": "ipython2",
   "version": "2.7.14"
  }
 },
 "nbformat": 4,
 "nbformat_minor": 2
}
